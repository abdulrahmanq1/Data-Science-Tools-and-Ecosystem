{
 "cells": [
  {
   "cell_type": "code",
   "execution_count": 3,
   "id": "9d19a694",
   "metadata": {},
   "outputs": [],
   "source": [
    "# Data Science Tools and Ecosystem\n"
   ]
  },
  {
   "cell_type": "markdown",
   "id": "4ebcc934",
   "metadata": {},
   "source": [
    "In this notebook, we will explore various data science tools, libraries, and concepts. We will also demonstrate some basic arithmetic operations using Python.\n"
   ]
  },
  {
   "cell_type": "markdown",
   "id": "9d56a485",
   "metadata": {},
   "source": [
    "## Data Science Languages\n",
    "- Python\n",
    "- R\n",
    "- SQL\n",
    "- Julia\n",
    "- Scala\n"
   ]
  },
  {
   "cell_type": "markdown",
   "id": "027531cc",
   "metadata": {},
   "source": [
    "## Data Science Libraries\n",
    "- Pandas\n",
    "- NumPy\n",
    "- Matplotlib\n",
    "- Scikit-learn\n",
    "- TensorFlow\n",
    "- Keras\n",
    "- PyTorch\n"
   ]
  },
  {
   "cell_type": "markdown",
   "id": "590eb433",
   "metadata": {},
   "source": [
    "## Data Science Tools\n",
    "| Tool          | Description                                      |\n",
    "|---------------|--------------------------------------------------|\n",
    "| Jupyter       | An open-source web application for creating and sharing documents that contain live code, equations, visualizations, and narrative text. |\n",
    "| RStudio       | An integrated development environment for R.     |\n",
    "| Apache Spark  | An open-source unified analytics engine for large-scale data processing. |\n",
    "| TensorFlow    | An open-source platform for machine learning.    |\n",
    "| RapidMiner    | A data science platform for analytics teams.     |\n"
   ]
  },
  {
   "cell_type": "markdown",
   "id": "391c3ad4",
   "metadata": {},
   "source": [
    "## Arithmetic Expression Examples\n",
    "Below are examples of simple arithmetic operations such as addition and multiplication.\n"
   ]
  },
  {
   "cell_type": "code",
   "execution_count": 4,
   "id": "e8fdcd0a",
   "metadata": {},
   "outputs": [
    {
     "data": {
      "text/plain": [
       "17"
      ]
     },
     "execution_count": 4,
     "metadata": {},
     "output_type": "execute_result"
    }
   ],
   "source": [
    "# Multiplication and addition\n",
    "(3 * 4) + 5\n"
   ]
  },
  {
   "cell_type": "code",
   "execution_count": 5,
   "id": "6a307670",
   "metadata": {},
   "outputs": [
    {
     "data": {
      "text/plain": [
       "3.3333333333333335"
      ]
     },
     "execution_count": 5,
     "metadata": {},
     "output_type": "execute_result"
    }
   ],
   "source": [
    "# Conversion from minutes to hours\n",
    "minutes = 200\n",
    "hours = minutes / 60\n",
    "hours\n"
   ]
  },
  {
   "cell_type": "markdown",
   "id": "ca08b5c7",
   "metadata": {},
   "source": [
    "## Objectives\n",
    "- List popular languages for Data Science.\n",
    "- List commonly used libraries in Data Science.\n",
    "- Create a table with Data Science tools.\n",
    "- Demonstrate basic arithmetic operations.\n",
    "- Convert units (e.g., minutes to hours).\n"
   ]
  },
  {
   "cell_type": "markdown",
   "id": "c91d1c78",
   "metadata": {},
   "source": [
    "**Author:** [Abdulrahman Alqeisi]\n"
   ]
  },
  {
   "cell_type": "code",
   "execution_count": null,
   "id": "379d19a4",
   "metadata": {},
   "outputs": [],
   "source": []
  }
 ],
 "metadata": {
  "kernelspec": {
   "display_name": "Python 3 (ipykernel)",
   "language": "python",
   "name": "python3"
  },
  "language_info": {
   "codemirror_mode": {
    "name": "ipython",
    "version": 3
   },
   "file_extension": ".py",
   "mimetype": "text/x-python",
   "name": "python",
   "nbconvert_exporter": "python",
   "pygments_lexer": "ipython3",
   "version": "3.10.11"
  }
 },
 "nbformat": 4,
 "nbformat_minor": 5
}
